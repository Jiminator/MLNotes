{
 "cells": [
  {
   "cell_type": "markdown",
   "metadata": {},
   "source": [
    "# PyTorch Basics"
   ]
  },
  {
   "cell_type": "code",
   "execution_count": 9,
   "metadata": {},
   "outputs": [],
   "source": [
    "## Import Statements\n",
    "import torch\n",
    "import torch.nn as nn\n",
    "import matplotlib.pyplot as plt"
   ]
  },
  {
   "cell_type": "code",
   "execution_count": 2,
   "metadata": {},
   "outputs": [
    {
     "name": "stdout",
     "output_type": "stream",
     "text": [
      "tensor([[1., 1., 1., 1., 1.],\n",
      "        [1., 1., 1., 1., 1.],\n",
      "        [1., 1., 1., 1., 1.]])\n"
     ]
    }
   ],
   "source": [
    "# Tensor - a matrix or an array, and their derivatives can be computed using autograd\n",
    "a = torch.ones(3, 5)\n",
    "print(a)"
   ]
  },
  {
   "cell_type": "code",
   "execution_count": 3,
   "metadata": {},
   "outputs": [
    {
     "name": "stdout",
     "output_type": "stream",
     "text": [
      "tensor([5., 5., 5.])\n"
     ]
    }
   ],
   "source": [
    "sum = torch.sum(a, axis=1)\n",
    "print(sum)"
   ]
  },
  {
   "cell_type": "code",
   "execution_count": 4,
   "metadata": {},
   "outputs": [
    {
     "name": "stdout",
     "output_type": "stream",
     "text": [
      "tensor([[1.],\n",
      "        [1.],\n",
      "        [1.],\n",
      "        [1.],\n",
      "        [1.]])\n",
      "torch.Size([5, 1])\n",
      "tensor([1., 1., 1., 1., 1.])\n",
      "torch.Size([5])\n",
      "tensor([[1.],\n",
      "        [1.],\n",
      "        [1.],\n",
      "        [1.],\n",
      "        [1.]])\n",
      "torch.Size([5, 1])\n"
     ]
    }
   ],
   "source": [
    "a = torch.ones(5,1)\n",
    "print(a)\n",
    "print(a.shape)\n",
    "\n",
    "squeezed = torch.squeeze(a)\n",
    "print(squeezed)\n",
    "print(squeezed.shape)\n",
    "\n",
    "unsqueezed = torch.unsqueeze(squeezed, dim=1)\n",
    "print(unsqueezed)\n",
    "print(unsqueezed.shape)"
   ]
  },
  {
   "cell_type": "code",
   "execution_count": 5,
   "metadata": {},
   "outputs": [],
   "source": [
    "class MyModel(nn.Module):\n",
    "    def __init__(self):\n",
    "        super().__init__()\n",
    "        self.first_layer = nn.Linear(4, 6)\n",
    "        self.second_layer = nn.Linear(6, 6)\n",
    "        self.final_layer = nn.Linear(6, 2)\n",
    "    \n",
    "    def forward(self, x):\n",
    "        x = self.first_layer(x)\n",
    "        x = self.second_layer(x)\n",
    "        x = self.final_layer(x)\n",
    "        return x"
   ]
  },
  {
   "cell_type": "code",
   "execution_count": 6,
   "metadata": {},
   "outputs": [
    {
     "data": {
      "text/plain": [
       "tensor([[-0.0592, -0.6339]], grad_fn=<AddmmBackward0>)"
      ]
     },
     "execution_count": 6,
     "metadata": {},
     "output_type": "execute_result"
    }
   ],
   "source": [
    "model = MyModel()\n",
    "## Training Code\n",
    "\n",
    "# Inference\n",
    "example_datapoint = torch.randn(1, 4)\n",
    "model(example_datapoint)"
   ]
  },
  {
   "cell_type": "code",
   "execution_count": 7,
   "metadata": {},
   "outputs": [],
   "source": [
    "from jaxtyping import Float\n",
    "\n",
    "torch.manual_seed(0)\n",
    "\n",
    "class DigitRecognition(nn.Module):\n",
    "    def __init__(self):\n",
    "        super().__init__()\n",
    "        # Define the architecture here\n",
    "        self.layer1 = nn.Linear(784, 512)\n",
    "        self.relu = nn.ReLU()\n",
    "        self.dropout = nn.Dropout(p=0.2)\n",
    "        self.layer2 = nn.Linear(512, 10)\n",
    "        self.sigmoid = nn.Sigmoid()\n",
    "    \n",
    "    def forward(self, images: Float[torch.Tensor, \"...\"]) -> Float[torch.Tensor, \"...\"]:\n",
    "        # Return the model's prediction to 4 decimal places\n",
    "        first_layer = self.dropout(self.relu(self.layer1(images)))\n",
    "        return self.sigmoid(self.layer2(first_layer))"
   ]
  },
  {
   "cell_type": "code",
   "execution_count": null,
   "metadata": {},
   "outputs": [],
   "source": [
    "model = DigitRecognition()\n",
    "\n",
    "loss_function = nn.CrossEntropyLoss\n",
    "optimizer = torch.optim.Adam(model.parameters())\n",
    "\n",
    "epochs = 5\n",
    "for epoch in range(epochs):\n",
    "    for images, labels in train_dataloader:\n",
    "        images = labels.view(images.shape[0], -784)\n",
    "        \n",
    "        # TRAINING BODY \n",
    "        model_prediction = model(images)\n",
    "        optimizer.zero_grad()\n",
    "        loss = loss_function(model_prediction, labels)\n",
    "        loss\n",
    "        optimizer.step()"
   ]
  },
  {
   "cell_type": "code",
   "execution_count": 8,
   "metadata": {},
   "outputs": [
    {
     "ename": "SyntaxError",
     "evalue": "invalid syntax (242891659.py, line 6)",
     "output_type": "error",
     "traceback": [
      "\u001b[0;36m  Cell \u001b[0;32mIn[8], line 6\u001b[0;36m\u001b[0m\n\u001b[0;31m    for i in range(len(images):)\u001b[0m\n\u001b[0m                              ^\u001b[0m\n\u001b[0;31mSyntaxError\u001b[0m\u001b[0;31m:\u001b[0m invalid syntax\n"
     ]
    }
   ],
   "source": [
    "model.eval()\n",
    "for images, labels in test_dataloader:\n",
    "    images = images.view(images.shape[0], 784)\n",
    "    model_prediction = model(images)\n",
    "    max, idx = torch.max(model_prediction, dim = 1)\n",
    "    for i in range(len(images)):\n",
    "        plt.imshow(images[i].view(28, 28))\n",
    "        plt.show()\n",
    "        print(idx[i].item())\n",
    "    break"
   ]
  },
  {
   "cell_type": "code",
   "execution_count": null,
   "metadata": {},
   "outputs": [],
   "source": []
  }
 ],
 "metadata": {
  "kernelspec": {
   "display_name": "Python 3",
   "language": "python",
   "name": "python3"
  },
  "language_info": {
   "codemirror_mode": {
    "name": "ipython",
    "version": 3
   },
   "file_extension": ".py",
   "mimetype": "text/x-python",
   "name": "python",
   "nbconvert_exporter": "python",
   "pygments_lexer": "ipython3",
   "version": "3.11.4"
  }
 },
 "nbformat": 4,
 "nbformat_minor": 2
}
